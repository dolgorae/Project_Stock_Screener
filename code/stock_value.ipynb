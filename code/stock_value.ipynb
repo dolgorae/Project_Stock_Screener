{
 "cells": [
  {
   "cell_type": "code",
   "execution_count": 1,
   "metadata": {},
   "outputs": [],
   "source": [
    "import requests\n",
    "import pandas as pd\n",
    "from bs4 import BeautifulSoup\n",
    "import datetime\n",
    "import os\n",
    "import traceback\n",
    "import time\n",
    "import random"
   ]
  },
  {
   "cell_type": "code",
   "execution_count": 2,
   "metadata": {},
   "outputs": [],
   "source": [
    "KOSPI200 = pd.read_csv(\"KOSPI200.csv\", encoding='cp949')"
   ]
  },
  {
   "cell_type": "code",
   "execution_count": 3,
   "metadata": {},
   "outputs": [],
   "source": [
    "code = []\n",
    "for i in range(0, 200):\n",
    "    a = str(KOSPI200[\"종목코드\"][i])\n",
    "    code.append(\"0\"*(6-len(a)) + a)\n",
    "    "
   ]
  },
  {
   "cell_type": "code",
   "execution_count": 4,
   "metadata": {},
   "outputs": [],
   "source": [
    "KOSPI200[\"code\"] = code"
   ]
  },
  {
   "cell_type": "code",
   "execution_count": 5,
   "metadata": {},
   "outputs": [
    {
     "data": {
      "text/html": [
       "<div>\n",
       "<style scoped>\n",
       "    .dataframe tbody tr th:only-of-type {\n",
       "        vertical-align: middle;\n",
       "    }\n",
       "\n",
       "    .dataframe tbody tr th {\n",
       "        vertical-align: top;\n",
       "    }\n",
       "\n",
       "    .dataframe thead th {\n",
       "        text-align: right;\n",
       "    }\n",
       "</style>\n",
       "<table border=\"1\" class=\"dataframe\">\n",
       "  <thead>\n",
       "    <tr style=\"text-align: right;\">\n",
       "      <th></th>\n",
       "      <th>종목코드</th>\n",
       "      <th>종목</th>\n",
       "      <th>code</th>\n",
       "    </tr>\n",
       "  </thead>\n",
       "  <tbody>\n",
       "    <tr>\n",
       "      <th>0</th>\n",
       "      <td>5930</td>\n",
       "      <td>삼성전자</td>\n",
       "      <td>005930</td>\n",
       "    </tr>\n",
       "    <tr>\n",
       "      <th>1</th>\n",
       "      <td>660</td>\n",
       "      <td>SK하이닉스</td>\n",
       "      <td>000660</td>\n",
       "    </tr>\n",
       "    <tr>\n",
       "      <th>2</th>\n",
       "      <td>207940</td>\n",
       "      <td>삼성바이오로직스</td>\n",
       "      <td>207940</td>\n",
       "    </tr>\n",
       "    <tr>\n",
       "      <th>3</th>\n",
       "      <td>35420</td>\n",
       "      <td>NAVER</td>\n",
       "      <td>035420</td>\n",
       "    </tr>\n",
       "    <tr>\n",
       "      <th>4</th>\n",
       "      <td>68270</td>\n",
       "      <td>셀트리온</td>\n",
       "      <td>068270</td>\n",
       "    </tr>\n",
       "  </tbody>\n",
       "</table>\n",
       "</div>"
      ],
      "text/plain": [
       "     종목코드        종목    code\n",
       "0    5930      삼성전자  005930\n",
       "1     660    SK하이닉스  000660\n",
       "2  207940  삼성바이오로직스  207940\n",
       "3   35420     NAVER  035420\n",
       "4   68270      셀트리온  068270"
      ]
     },
     "execution_count": 5,
     "metadata": {},
     "output_type": "execute_result"
    }
   ],
   "source": [
    "KOSPI200.head()"
   ]
  },
  {
   "cell_type": "code",
   "execution_count": 6,
   "metadata": {},
   "outputs": [],
   "source": [
    "url = \"https://finance.naver.com/item/sise_day.nhn?code=035420\""
   ]
  },
  {
   "cell_type": "code",
   "execution_count": 9,
   "metadata": {},
   "outputs": [],
   "source": [
    "def get_last_page(code):\n",
    "    url = \"https://finance.naver.com/item/sise_day.nhn?code=035420\"\n",
    "    params = {\"code\":code}\n",
    "    res = requests.get(url, params = params)\n",
    "    res.encoding = 'utf-8'\n",
    "    soap = BeautifulSoup(res.text, 'lxml')\n",
    "    \n",
    "    # 마지막 페이지 숫자 가져오기\n",
    "    el_table_navi = soap.find(\"table\", class_=\"Nnavi\")\n",
    "    el_td_last = el_table_navi.find(\"td\", class_=\"pgRR\")\n",
    "    pg_last = el_td_last.a.get('href').rsplit('&')[1]\n",
    "    pg_last = pg_last.split('=')[1]\n",
    "    pg_last = int(pg_last)\n",
    "\n",
    "    return pg_last"
   ]
  },
  {
   "cell_type": "code",
   "execution_count": 10,
   "metadata": {},
   "outputs": [
    {
     "name": "stdout",
     "output_type": "stream",
     "text": [
      "5930\n"
     ]
    }
   ],
   "source": [
    "print(get_last_page(KOSPI200[\"code\"][0]))"
   ]
  },
  {
   "cell_type": "code",
   "execution_count": 11,
   "metadata": {},
   "outputs": [],
   "source": [
    "#페이지 별로 데이터 가져오기\n",
    "def parse_page(code, page):\n",
    "    try:\n",
    "        url = 'http://finance.naver.com/item/sise_day.nhn?code={code}&page={page}'.format(code=code, page=page)\n",
    "        res = requests.get(url)\n",
    "        time.sleep(random.uniform(1,3))\n",
    "        _soap = BeautifulSoup(res.text, 'lxml')\n",
    "        _df = pd.read_html(str(_soap.find(\"table\")), header=0)[0]\n",
    "        _df = _df.dropna()\n",
    "        return _df\n",
    "    except Exception as e:\n",
    "        traceback.print_exc()\n",
    "    return None\n"
   ]
  },
  {
   "cell_type": "code",
   "execution_count": null,
   "metadata": {},
   "outputs": [],
   "source": []
  },
  {
   "cell_type": "code",
   "execution_count": null,
   "metadata": {},
   "outputs": [],
   "source": [
    "for i in range(2,10):\n",
    "    code = KOSPI200[\"code\"][i]\n",
    "\n",
    "    pg_last = get_last_page(code)\n",
    "\n",
    "    #시작과 끝 날짜 설정\n",
    "    str_datefrom = datetime.datetime.strftime(datetime.datetime(year=2015, month=1, day=1), '%Y.%m.%d')\n",
    "    str_dateto = datetime.datetime.strftime(datetime.datetime.today(), \"%Y.%m.%d\")\n",
    "    \n",
    "    \n",
    "    df = None\n",
    "    for page in range(1, pg_last + 1):\n",
    "        _df = parse_page(code, page)\n",
    "        _df_filtered = _df[_df[\"날짜\"] > str_datefrom]\n",
    "        if df is None:\n",
    "            df = _df_filtered\n",
    "        else:\n",
    "            df = pd.concat([df, _df_filtered])\n",
    "        if len(_df) > len(_df_filtered):\n",
    "            break\n",
    "\n",
    "    \n",
    "    \n",
    "    path = os.path.join(os.getcwd()+\"\\\\stock_value\",\"{}_{}_{}_{}.csv\".format(code, KOSPI200[\"종목\"][i], str_datefrom, str_dateto) )\n",
    "    df.to_csv(path, encoding='utf-8-sig')\n",
    "    \n",
    "    print(\"{} DONE\".format(KOSPI200[\"종목\"][i]))"
   ]
  },
  {
   "cell_type": "code",
   "execution_count": 27,
   "metadata": {},
   "outputs": [],
   "source": []
  },
  {
   "cell_type": "code",
   "execution_count": null,
   "metadata": {},
   "outputs": [],
   "source": []
  }
 ],
 "metadata": {
  "kernelspec": {
   "display_name": "Python 3",
   "language": "python",
   "name": "python3"
  },
  "language_info": {
   "codemirror_mode": {
    "name": "ipython",
    "version": 3
   },
   "file_extension": ".py",
   "mimetype": "text/x-python",
   "name": "python",
   "nbconvert_exporter": "python",
   "pygments_lexer": "ipython3",
   "version": "3.7.1"
  }
 },
 "nbformat": 4,
 "nbformat_minor": 2
}
