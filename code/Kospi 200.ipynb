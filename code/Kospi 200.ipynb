{
 "cells": [
  {
   "cell_type": "code",
   "execution_count": 5,
   "metadata": {},
   "outputs": [],
   "source": [
    "from bs4 import BeautifulSoup\n",
    "import csv\n",
    "import os\n",
    "import re\n",
    "import requests\n",
    "\n",
    "BaseUrl = 'http://finance.naver.com/sise/entryJongmok.nhn?&page='\n"
   ]
  },
  {
   "cell_type": "code",
   "execution_count": 6,
   "metadata": {},
   "outputs": [
    {
     "data": {
      "text/plain": [
       "'C:\\\\Users\\\\HeyDay\\\\Desktop\\\\dart_project'"
      ]
     },
     "execution_count": 6,
     "metadata": {},
     "output_type": "execute_result"
    }
   ],
   "source": [
    "os.getcwd()"
   ]
  },
  {
   "cell_type": "code",
   "execution_count": 7,
   "metadata": {},
   "outputs": [
    {
     "data": {
      "text/plain": [
       "<_io.TextIOWrapper name='KOSPI200.csv' mode='w' encoding='cp949'>"
      ]
     },
     "execution_count": 7,
     "metadata": {},
     "output_type": "execute_result"
    }
   ],
   "source": [
    "open(\"KOSPI200.csv\", 'w')"
   ]
  },
  {
   "cell_type": "code",
   "execution_count": 8,
   "metadata": {},
   "outputs": [],
   "source": [
    "for i in range(1,22,1):\n",
    "    try:\n",
    "        url = BaseUrl + str(i)\n",
    "        r = requests.get(url)\n",
    "        soup = BeautifulSoup(r.text, 'lxml')\n",
    "        items = soup.find_all('td', {'class':'ctg'})\n",
    "        \n",
    "        for item in items:\n",
    "            txt = item.a.get('href')\n",
    "            k = re.search('[\\d]+', txt)\n",
    "            if k:\n",
    "                code = k.group()\n",
    "                name = item.text\n",
    "                data = code, name\n",
    "                \n",
    "                with open ('KOSPI200.csv', 'a') as f:\n",
    "                    writer = csv.writer(f)\n",
    "                    writer.writerow(data)\n",
    "    except:\n",
    "        pass\n",
    "    finally:\n",
    "        temp_for_sort = []\n",
    "        with open('KOSPI200.csv', 'r') as in_file:\n",
    "            for sort_line in in_file:\n",
    "                temp_for_sort.append(sort_line)\n",
    "                \n",
    "        with open('KOSPI200.csv', 'w') as out_file:\n",
    "            seen = set()\n",
    "            for line in temp_for_sort:\n",
    "                if line in seen: continue\n",
    "                    \n",
    "                seen.add(line)\n",
    "                out_file.write(line)\n",
    "f.close()"
   ]
  },
  {
   "cell_type": "code",
   "execution_count": null,
   "metadata": {},
   "outputs": [],
   "source": []
  },
  {
   "cell_type": "code",
   "execution_count": null,
   "metadata": {},
   "outputs": [],
   "source": []
  },
  {
   "cell_type": "code",
   "execution_count": null,
   "metadata": {},
   "outputs": [],
   "source": []
  }
 ],
 "metadata": {
  "kernelspec": {
   "display_name": "Python 3",
   "language": "python",
   "name": "python3"
  },
  "language_info": {
   "codemirror_mode": {
    "name": "ipython",
    "version": 3
   },
   "file_extension": ".py",
   "mimetype": "text/x-python",
   "name": "python",
   "nbconvert_exporter": "python",
   "pygments_lexer": "ipython3",
   "version": "3.7.1"
  }
 },
 "nbformat": 4,
 "nbformat_minor": 2
}
